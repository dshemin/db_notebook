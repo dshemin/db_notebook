{
  "cells": [
    {
      "cell_type": "code",
      "execution_count": 1,
      "id": "b098d38e-c138-4ca8-85c3-abd8c49301e7",
      "metadata": {},
      "outputs": [],
      "source": [
        "import pymongo\n",
        "from pymongo import MongoClient\n",
        "client = MongoClient(\"mongo\", 27017)"
      ]
    }
  ],
  "metadata": {
    "kernelspec": {
      "display_name": "Python 3 (ipykernel)",
      "language": "python",
      "name": "python3"
    },
    "language_info": {
      "codemirror_mode": {
        "name": "ipython",
        "version": 3
      },
      "file_extension": ".py",
      "mimetype": "text/x-python",
      "name": "python",
      "nbconvert_exporter": "python",
      "pygments_lexer": "ipython3",
      "version": "3.10.8"
    }
  },
  "nbformat": 4,
  "nbformat_minor": 5
}
